{
  "cells": [
    {
      "cell_type": "markdown",
      "metadata": {
        "id": "mMPfGImuWGEF"
      },
      "source": [
        "# Project setup"
      ]
    },
    {
      "cell_type": "code",
      "execution_count": 1,
      "metadata": {
        "id": "7pkiX4Xfik53"
      },
      "outputs": [],
      "source": [
        "dataset_zip_name = \"mikroszkop-bioszenzor\"\n",
        "dataset_name = \"20210526_LCLC_fn\"\n",
        "model_name = \"cyto3_old_annotated\""
      ]
    },
    {
      "cell_type": "code",
      "execution_count": null,
      "metadata": {
        "id": "_70FlTXcfx5N"
      },
      "outputs": [],
      "source": [
        "!git clone --recursive -j8 https://github.com/Nanobiosensorics/cell-aligner.git\n",
        "!mv cell-aligner/* ./\n",
        "!rm -rf cell-aligner"
      ]
    },
    {
      "cell_type": "code",
      "execution_count": null,
      "metadata": {
        "id": "MX7sj20zWMv7"
      },
      "outputs": [],
      "source": [
        "!pip install -r requirements.txt"
      ]
    },
    {
      "cell_type": "code",
      "execution_count": null,
      "metadata": {
        "id": "any5au9Xj9eW"
      },
      "outputs": [],
      "source": [
        "from google.colab import drive\n",
        "drive.mount('/content/drive')"
      ]
    },
    {
      "cell_type": "code",
      "execution_count": null,
      "metadata": {
        "id": "E-S6hJtKkHWm"
      },
      "outputs": [],
      "source": [
        "!unzip \"/content/drive/MyDrive/szakdolgozat/kepillesztes/{dataset_zip_name}.zip\" -d \"/content/datasets\"\n",
        "!mkdir models\n",
        "!cp \"/content/drive/MyDrive/szakmai gyakorlat/cellpose-cell-counting/models/{model_name}\" \"/content/models\""
      ]
    },
    {
      "cell_type": "code",
      "execution_count": 6,
      "metadata": {
        "id": "0JOxxUSKVrDt"
      },
      "outputs": [],
      "source": [
        "import os\n",
        "\n",
        "file_path = \"./nanobio_core/epic_cardio/data_correction.py\"\n",
        "backup_file_path = \"./nanobio_core/epic_cardio/data_correction.bak\"\n",
        "\n",
        "if not os.path.exists(backup_file_path):\n",
        "  os.rename(file_path, backup_file_path)\n",
        "\n",
        "  with open(backup_file_path, 'r') as file:\n",
        "    lines = file.readlines()\n",
        "\n",
        "  with open(file_path, 'w') as file:\n",
        "    for line in lines:\n",
        "      if \"matplotlib.use('Qt5Agg')\" in line:\n",
        "        file.write(\"# \" + line)\n",
        "      else:\n",
        "        file.write(line)"
      ]
    },
    {
      "cell_type": "markdown",
      "metadata": {
        "id": "gG-XMgZj4u1a"
      },
      "source": [
        "# Preprocessing"
      ]
    },
    {
      "cell_type": "code",
      "execution_count": null,
      "metadata": {
        "id": "FJonI_X558AW"
      },
      "outputs": [],
      "source": [
        "import pickle\n",
        "from pipeline import run_pipeline\n",
        "from preprocessing import NanoReader"
      ]
    },
    {
      "cell_type": "code",
      "execution_count": null,
      "metadata": {
        "id": "dA1d_EHg4yAu"
      },
      "outputs": [],
      "source": [
        "# no magnification\n",
        "file_path = \"/content/drive/MyDrive/szakdolgozat/kepillesztes/preprocessed_1x.pkl\"\n",
        "\n",
        "with open(file_path, \"wb\") as file:\n",
        "  result = run_pipeline(\n",
        "      data=NanoReader(\n",
        "          base_path=f\"/content/datasets/{dataset_name}\",\n",
        "          flip_epic=[False, True]\n",
        "      ),\n",
        "      cellpose_model_path=f\"/content/models/{model_name}\",\n",
        "      epic_params={\n",
        "        \"preprocessing_params\": {\n",
        "            \"magnification\": 1,\n",
        "            \"scaling\": \"MIC_10X\",\n",
        "            \"range_lowerbound\": 0,\n",
        "            \"drift_correction\": {\n",
        "                \"threshold\": 75,\n",
        "                \"filter_method\": \"mean\"\n",
        "            }\n",
        "        },\n",
        "        \"localization_params\": {\n",
        "            \"threshold_range\": [150, 3000],\n",
        "            \"neighbourhood_size\": 3\n",
        "        }\n",
        "      },\n",
        "      only_process=True\n",
        "  )\n",
        "  pickle.dump(result, file)"
      ]
    },
    {
      "cell_type": "code",
      "execution_count": null,
      "metadata": {
        "id": "9n6mItoF5-JA"
      },
      "outputs": [],
      "source": [
        "# magnification\n",
        "file_path = \"/content/drive/MyDrive/szakdolgozat/kepillesztes/preprocessed_2x.pkl\"\n",
        "\n",
        "with open(file_path, \"wb\") as file:\n",
        "  result = run_pipeline(\n",
        "      data=NanoReader(\n",
        "          base_path=f\"/content/datasets/{dataset_name}\",\n",
        "          flip_epic=[False, True]\n",
        "      ),\n",
        "      cellpose_model_path=f\"/content/models/{model_name}\",\n",
        "      epic_params={\n",
        "        \"preprocessing_params\": {\n",
        "            \"magnification\": 2,\n",
        "            \"scaling\": \"MIC_10X\",\n",
        "            \"range_lowerbound\": 0.8,\n",
        "            \"drift_correction\": {\n",
        "                \"threshold\": 75,\n",
        "                \"filter_method\": \"mean\"\n",
        "            }\n",
        "        },\n",
        "        \"localization_params\": {\n",
        "            \"threshold_range\": [25, 5000],\n",
        "            \"neighbourhood_size\": 3\n",
        "        }\n",
        "      },\n",
        "      only_process=True\n",
        "  )\n",
        "  pickle.dump(result, file)"
      ]
    }
  ],
  "metadata": {
    "accelerator": "GPU",
    "colab": {
      "gpuType": "T4",
      "provenance": []
    },
    "kernelspec": {
      "display_name": "Python 3",
      "name": "python3"
    },
    "language_info": {
      "name": "python"
    }
  },
  "nbformat": 4,
  "nbformat_minor": 0
}
