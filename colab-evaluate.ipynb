{
  "cells": [
    {
      "cell_type": "code",
      "execution_count": null,
      "metadata": {
        "id": "_70FlTXcfx5N"
      },
      "outputs": [],
      "source": [
        "!git clone --recursive -j8 https://github.com/Nanobiosensorics/cell-aligner.git\n",
        "!mv cell-aligner/* ./\n",
        "!rm -rf cell-aligner"
      ]
    },
    {
      "cell_type": "code",
      "execution_count": null,
      "metadata": {
        "id": "MX7sj20zWMv7"
      },
      "outputs": [],
      "source": [
        "! pip install -r requirements.txt"
      ]
    },
    {
      "cell_type": "code",
      "execution_count": null,
      "metadata": {
        "id": "any5au9Xj9eW"
      },
      "outputs": [],
      "source": [
        "from google.colab import drive\n",
        "drive.mount('/content/drive')"
      ]
    },
    {
      "cell_type": "code",
      "execution_count": null,
      "metadata": {
        "id": "7pkiX4Xfik53"
      },
      "outputs": [],
      "source": [
        "dataset_name = \"mikroszkop-bioszenzor\"\n",
        "model_name = \"cyto3_old_annotated\""
      ]
    },
    {
      "cell_type": "code",
      "execution_count": null,
      "metadata": {
        "id": "E-S6hJtKkHWm"
      },
      "outputs": [],
      "source": [
        "!unzip \"/content/drive/MyDrive/szakdolgozat/kepillesztes/{dataset_name}.zip\" -d \"/content/datasets\"\n",
        "!mkdir models\n",
        "!cp \"/content/drive/MyDrive/szakmai gyakorlat/cellpose-cell-counting/models/{model_name}\" \"/content/models\""
      ]
    },
    {
      "cell_type": "code",
      "execution_count": null,
      "metadata": {
        "id": "0JOxxUSKVrDt"
      },
      "outputs": [],
      "source": [
        "!python evaluate.py eval-stochastic --input_path=\"/content/datasets/20200722_Preo_Hela_fn\" --output_path=\"/content/drive/MyDrive/result.pickle\" --cellpose_model_path=\"/content/models/cyto3_old_annotated\" --flip=0,0 --source_indices_ratio=0.1"
      ]
    }
  ],
  "metadata": {
    "accelerator": "GPU",
    "colab": {
      "gpuType": "T4",
      "provenance": []
    },
    "kernelspec": {
      "display_name": "Python 3",
      "name": "python3"
    },
    "language_info": {
      "name": "python"
    }
  },
  "nbformat": 4,
  "nbformat_minor": 0
}
