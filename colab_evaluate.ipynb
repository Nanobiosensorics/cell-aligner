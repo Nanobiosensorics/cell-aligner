{
  "cells": [
    {
      "cell_type": "markdown",
      "source": [
        "# Running data preprocessing and aligner."
      ],
      "metadata": {
        "id": "mMPfGImuWGEF"
      }
    },
    {
      "cell_type": "code",
      "execution_count": null,
      "metadata": {
        "id": "_70FlTXcfx5N"
      },
      "outputs": [],
      "source": [
        "!git clone --recursive -j8 https://github.com/Nanobiosensorics/cell-aligner.git\n",
        "!mv cell-aligner/* ./\n",
        "!rm -rf cell-aligner"
      ]
    },
    {
      "cell_type": "code",
      "source": [
        "!pip install -r requirements.txt"
      ],
      "metadata": {
        "id": "MX7sj20zWMv7"
      },
      "execution_count": null,
      "outputs": []
    },
    {
      "cell_type": "code",
      "execution_count": null,
      "metadata": {
        "id": "any5au9Xj9eW"
      },
      "outputs": [],
      "source": [
        "from google.colab import drive\n",
        "drive.mount('/content/drive')"
      ]
    },
    {
      "cell_type": "code",
      "source": [
        "dataset_zip_name = \"mikroszkop-bioszenzor\"\n",
        "dataset_name = \"20200722_Preo_Hela_fn\"\n",
        "model_name = \"cyto3_old_annotated\""
      ],
      "metadata": {
        "id": "7pkiX4Xfik53"
      },
      "execution_count": 4,
      "outputs": []
    },
    {
      "cell_type": "code",
      "execution_count": null,
      "metadata": {
        "id": "E-S6hJtKkHWm"
      },
      "outputs": [],
      "source": [
        "!unzip \"/content/drive/MyDrive/szakdolgozat/kepillesztes/{dataset_zip_name}.zip\" -d \"/content/datasets\"\n",
        "!mkdir models\n",
        "!cp \"/content/drive/MyDrive/szakmai gyakorlat/cellpose-cell-counting/models/{model_name}\" \"/content/models\""
      ]
    },
    {
      "cell_type": "code",
      "source": [
        "import os\n",
        "\n",
        "file_path = \"./nanobio_core/epic_cardio/data_correction.py\"\n",
        "backup_file_path = \"./nanobio_core/epic_cardio/data_correction.bak\"\n",
        "\n",
        "if not os.path.exists(backup_file_path):\n",
        "  os.rename(file_path, backup_file_path)\n",
        "\n",
        "  with open(backup_file_path, 'r') as file:\n",
        "    lines = file.readlines()\n",
        "\n",
        "  with open(file_path, 'w') as file:\n",
        "    for line in lines:\n",
        "      if \"matplotlib.use('Qt5Agg')\" in line:\n",
        "        file.write(\"# \" + line)\n",
        "      else:\n",
        "        file.write(line)"
      ],
      "metadata": {
        "id": "0JOxxUSKVrDt"
      },
      "execution_count": 6,
      "outputs": []
    },
    {
      "cell_type": "code",
      "source": [
        "!python data_reading.py --input_path \"/content/datasets/{dataset_name}\" --output_path \"/content/preprocessed.pkl\" --cellpose_model_path=\"/content/models/{model_name}\" --flip=0,1 --scaling=\"MIC_10X\""
      ],
      "metadata": {
        "colab": {
          "base_uri": "https://localhost:8080/"
        },
        "id": "T9leVf3_dBOH",
        "outputId": "935d4045-5d86-4516-cc0b-f9e402ad2ecb"
      },
      "execution_count": 8,
      "outputs": [
        {
          "output_type": "stream",
          "name": "stdout",
          "text": [
            "Measurement mode normal\n",
            "(153600,)\n",
            "Measurement loaded (1097, 240, 320) time (1097,)\n",
            "[(1, 375)]\n",
            "Parsing finished!\n",
            "Parsing finished!\n",
            "/usr/local/lib/python3.10/dist-packages/cellpose/resnet_torch.py:276: FutureWarning: You are using `torch.load` with `weights_only=False` (the current default value), which uses the default pickle module implicitly. It is possible to construct malicious pickle data which will execute arbitrary code during unpickling (See https://github.com/pytorch/pytorch/blob/main/SECURITY.md#untrusted-models for more details). In a future release, the default value for `weights_only` will be flipped to `True`. This limits the functions that could be executed during unpickling. Arbitrary objects will no longer be allowed to be loaded via this mode unless they are explicitly allowlisted by the user via `torch.serialization.add_safe_globals`. We recommend you start setting `weights_only=True` for any use case where you don't have full control of the loaded file. Please open an issue on GitHub for any issues related to this experimental feature.\n",
            "  state_dict = torch.load(filename, map_location=device)\n"
          ]
        }
      ]
    },
    {
      "cell_type": "markdown",
      "source": [
        "# Evaluating results"
      ],
      "metadata": {
        "id": "mVK27mpwc7fn"
      }
    },
    {
      "cell_type": "code",
      "source": [
        "from google.colab import drive\n",
        "drive.mount('/content/drive')"
      ],
      "metadata": {
        "id": "_tb9whDedC3w"
      },
      "execution_count": null,
      "outputs": []
    },
    {
      "cell_type": "code",
      "source": [
        "import pickle\n",
        "\n",
        "with open(\"/content/drive/MyDrive/szakdolgozat/preprocessed.pkl\", \"rb\") as file:\n",
        "  preprocessed = pickle.load(file)"
      ],
      "metadata": {
        "id": "1SX-PEn4dLGI"
      },
      "execution_count": 2,
      "outputs": []
    },
    {
      "cell_type": "code",
      "source": [
        "print(preprocessed.keys())"
      ],
      "metadata": {
        "colab": {
          "base_uri": "https://localhost:8080/"
        },
        "id": "F-PGSDmJd38k",
        "outputId": "76211d46-c944-4685-fb17-5ddd1c437506"
      },
      "execution_count": 3,
      "outputs": [
        {
          "output_type": "stream",
          "name": "stdout",
          "text": [
            "dict_keys(['A1', 'A2', 'A3', 'A4', 'B1', 'B2', 'B3', 'B4', 'C1', 'C2', 'C3', 'C4'])\n"
          ]
        }
      ]
    },
    {
      "cell_type": "code",
      "source": [
        "import numpy as np\n",
        "\n",
        "well_id = \"A4\"\n",
        "\n",
        "well = preprocessed[well_id][\"well_data\"][0]\n",
        "points = preprocessed[well_id][\"well_data\"][1]"
      ],
      "metadata": {
        "colab": {
          "base_uri": "https://localhost:8080/"
        },
        "id": "LiHZbFUGddMe",
        "outputId": "f45663e9-016a-4735-f5a8-edf168c52381"
      },
      "execution_count": 7,
      "outputs": [
        {
          "output_type": "stream",
          "name": "stdout",
          "text": [
            "(4189, 4189)\n"
          ]
        }
      ]
    },
    {
      "cell_type": "code",
      "source": [
        "import matplotlib.pyplot as plt\n",
        "\n",
        "plt.imshow(well, cmap=\"gray\")\n",
        "plt.scatter(points[:, 0], points[:, 1])\n",
        "plt.show()"
      ],
      "metadata": {
        "colab": {
          "base_uri": "https://localhost:8080/",
          "height": 435
        },
        "id": "rB64uEHkdyUb",
        "outputId": "b5ddbcc0-14ca-4226-91fb-e8990a4ae3a4"
      },
      "execution_count": 10,
      "outputs": [
        {
          "output_type": "display_data",
          "data": {
            "text/plain": [
              "<Figure size 640x480 with 1 Axes>"
            ],
            "image/png": "[encoded data removed]"
          },
          "metadata": {}
        }
      ]
    }
  ],
  "metadata": {
    "colab": {
      "provenance": []
    },
    "kernelspec": {
      "display_name": "Python 3",
      "name": "python3"
    },
    "language_info": {
      "name": "python"
    }
  },
  "nbformat": 4,
  "nbformat_minor": 0
}