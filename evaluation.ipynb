{
 "cells": [
  {
   "cell_type": "code",
   "execution_count": 1,
   "metadata": {},
   "outputs": [],
   "source": [
    "import os\n",
    "\n",
    "BASE_PATH = \"./data/20200722_Preo_Hela_fn\"\n",
    "CARDIO_PATH = os.path.join(BASE_PATH, \"epic_data\")\n",
    "IMG_PATH = os.path.join(BASE_PATH, \"img_data\")"
   ]
  },
  {
   "cell_type": "code",
   "execution_count": 2,
   "metadata": {},
   "outputs": [],
   "source": [
    "%matplotlib inline\n",
    "import matplotlib.pyplot as plt\n",
    "from nanobio_core.epic_cardio.processing import *\n",
    "\n",
    "preprocessing_params = {\n",
    "  'signal_range' : {\n",
    "    'range_type': RangeType.MEASUREMENT_PHASE,\n",
    "    'ranges': [0, None],\n",
    "  },\n",
    "  'drift_correction': {\n",
    "    'threshold': 75,\n",
    "    'filter_method': 'mean',\n",
    "    'background_selector': False,\n",
    "  },\n",
    "  \"flip\": [False, False]\n",
    "}\n",
    "\n",
    "localization_params = {\n",
    "  \"threshold_range\": [75, 3000],\n",
    "  \"neighbourhood_size\": 3,\n",
    "  \"error_mask_filtering\": True\n",
    "}\n",
    "\n",
    "filter_params = {}"
   ]
  },
  {
   "cell_type": "code",
   "execution_count": 3,
   "metadata": {},
   "outputs": [
    {
     "name": "stdout",
     "output_type": "stream",
     "text": [
      "READING WELL DATA:\n",
      "Measurement mode normal\n",
      "(153600,)\n",
      "Measurement loaded (1097, 240, 320) time (1097,)\n",
      "[(1, np.int64(375))]\n",
      "Parsing finished!\n",
      "READING IMG DATA:\n",
      "Parsing finished!\n"
     ]
    }
   ],
   "source": [
    "import cv2\n",
    "\n",
    "print(\"READING WELL DATA:\")\n",
    "raw_wells, full_time, full_phases = load_data(CARDIO_PATH, flip=preprocessing_params[\"flip\"])\n",
    "well_data, time, phases, filter_ptss, selected_range = preprocessing(preprocessing_params, raw_wells, full_time, full_phases, background_coords=filter_params)\n",
    "\n",
    "print(\"READING IMG DATA:\")\n",
    "img_data = {}\n",
    "for id in well_data.keys():\n",
    "  print(f\"Parsing {id}\", end=\"\\r\")\n",
    "  img = cv2.imread(os.path.join(IMG_PATH, id + \".jpeg\"), cv2.IMREAD_GRAYSCALE)\n",
    "  img_data[id] = img\n",
    "print(\"Parsing finished!\")"
   ]
  },
  {
   "cell_type": "code",
   "execution_count": 4,
   "metadata": {},
   "outputs": [
    {
     "name": "stdout",
     "output_type": "stream",
     "text": [
      "Parsing finished!\n"
     ]
    }
   ],
   "source": [
    "from nanobio_core.epic_cardio.processing import localization\n",
    "\n",
    "localized_well_data = localization(preprocessing_params, localization_params, raw_wells, selected_range, filter_ptss)"
   ]
  }
 ],
 "metadata": {
  "kernelspec": {
   "display_name": "base",
   "language": "python",
   "name": "python3"
  },
  "language_info": {
   "codemirror_mode": {
    "name": "ipython",
    "version": 3
   },
   "file_extension": ".py",
   "mimetype": "text/x-python",
   "name": "python",
   "nbconvert_exporter": "python",
   "pygments_lexer": "ipython3",
   "version": "3.12.4"
  }
 },
 "nbformat": 4,
 "nbformat_minor": 2
}
